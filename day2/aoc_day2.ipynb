{
 "cells": [
  {
   "cell_type": "markdown",
   "metadata": {},
   "source": [
    "# Advent of Code Day 2\n",
    "## Inventory Management System"
   ]
  },
  {
   "cell_type": "code",
   "execution_count": 99,
   "metadata": {},
   "outputs": [],
   "source": [
    "import numpy as np\n",
    "from collections import Counter\n",
    "from difflib import get_close_matches"
   ]
  },
  {
   "cell_type": "markdown",
   "metadata": {},
   "source": [
    "## Part 1"
   ]
  },
  {
   "cell_type": "markdown",
   "metadata": {},
   "source": [
    "You stop falling through time, catch your breath, and check the screen on the device. \"Destination reached. Current Year: 1518. Current Location: North Pole Utility Closet 83N10.\" You made it! Now, to find those anomalies.\n",
    "\n",
    "Outside the utility closet, you hear footsteps and a voice. \"...I'm not sure either. But now that so many people have chimneys, maybe he could sneak in that way?\" Another voice responds, \"Actually, we've been working on a new kind of suit that would let him fit through tight spaces like that. But, I heard that a few days ago, they lost the prototype fabric, the design plans, everything! Nobody on the team can even seem to remember important details of the project!\"\n",
    "\n",
    "\"Wouldn't they have had enough fabric to fill several boxes in the warehouse? They'd be stored together, so the box IDs should be similar. Too bad it would take forever to search the warehouse for two similar box IDs...\" They walk too far away to hear any more.\n",
    "\n",
    "Late at night, you sneak to the warehouse - who knows what kinds of paradoxes you could cause if you were discovered - and use your fancy wrist device to quickly scan every box and produce a list of the likely candidates (your puzzle input).\n",
    "\n",
    "To make sure you didn't miss any, you scan the likely candidate boxes again, counting the number that have an ID containing exactly two of any letter and then separately counting those with exactly three of any letter. You can multiply those two counts together to get a rudimentary checksum and compare it to what your device predicts.\n",
    "\n",
    "For example, if you see the following box IDs:\n",
    "\n",
    "* abcdef contains no letters that appear exactly two or three times.\n",
    "* bababc contains two a and three b, so it counts for both.\n",
    "* abbcde contains two b, but no letter appears exactly three times.\n",
    "* abcccd contains three c, but no letter appears exactly two times.\n",
    "* aabcdd contains two a and two d, but it only counts once.\n",
    "* abcdee contains two e.\n",
    "* ababab contains three a and three b, but it only counts once.\n",
    "\n",
    "Of these box IDs, four of them contain a letter which appears exactly twice, and three of them contain a letter which appears exactly three times. Multiplying these together produces a checksum of 4 * 3 = 12.\n",
    "\n",
    "What is the checksum for your list of box IDs?"
   ]
  },
  {
   "cell_type": "code",
   "execution_count": 100,
   "metadata": {},
   "outputs": [],
   "source": [
    "with open('day2_input1.txt') as file:\n",
    "    boxes = [line.rstrip('\\n') for line in file]"
   ]
  },
  {
   "cell_type": "code",
   "execution_count": 101,
   "metadata": {},
   "outputs": [],
   "source": [
    "twice_total = 0\n",
    "thrice_total = 0\n",
    "\n",
    "for box in boxes:\n",
    "    twice = 0\n",
    "    thrice = 0\n",
    "    a = Counter(box)\n",
    "    for letter in a:\n",
    "        if a[letter] == 2:\n",
    "            twice = 1\n",
    "        if a[letter] == 3:\n",
    "            thrice = 1\n",
    "        if twice and thrice:\n",
    "            break\n",
    "    twice_total += twice\n",
    "    thrice_total += thrice"
   ]
  },
  {
   "cell_type": "code",
   "execution_count": 102,
   "metadata": {},
   "outputs": [
    {
     "name": "stdout",
     "output_type": "stream",
     "text": [
      "248 29 7192\n"
     ]
    }
   ],
   "source": [
    "checksum = twice_total * thrice_total\n",
    "print(twice_total, thrice_total , checksum)"
   ]
  },
  {
   "cell_type": "markdown",
   "metadata": {},
   "source": [
    "## Part 2"
   ]
  },
  {
   "cell_type": "markdown",
   "metadata": {},
   "source": [
    "Confident that your list of box IDs is complete, you're ready to find the boxes full of prototype fabric.\n",
    "\n",
    "The boxes will have IDs which differ by exactly one character at the same position in both strings. For example, given the following box IDs:\n",
    "\n",
    "* abcde\n",
    "* fghij\n",
    "* klmno\n",
    "* pqrst\n",
    "* vfguij\n",
    "* axcye\n",
    "* wvxyz\n",
    "\n",
    "The IDs abcde and axcye are close, but they differ by two characters (the second and fourth). However, the IDs fghij and fguij differ by exactly one character, the third (h and u). Those must be the correct boxes.\n",
    "\n",
    "What letters are common between the two correct box IDs? (In the example above, this is found by removing the differing character from either ID, producing fgij.)"
   ]
  },
  {
   "cell_type": "code",
   "execution_count": 103,
   "metadata": {},
   "outputs": [
    {
     "name": "stdout",
     "output_type": "stream",
     "text": [
      "113 mbruvapbghxlzycbhmfqjonsie [7]\n"
     ]
    }
   ],
   "source": [
    "for ibox, box in enumerate(boxes):\n",
    "    matches = get_close_matches(box, boxes, n=2)\n",
    "    diff = [i for i in range(len(box)) if box[i] != matches[1][i]]\n",
    "    if len(diff) == 1:\n",
    "        break\n",
    "\n",
    "print(ibox, box, diff)"
   ]
  },
  {
   "cell_type": "code",
   "execution_count": 104,
   "metadata": {},
   "outputs": [
    {
     "name": "stdout",
     "output_type": "stream",
     "text": [
      "mbruvapghxlzycbhmfqjonsie\n"
     ]
    }
   ],
   "source": [
    "boxl = list(boxes[ibox])\n",
    "boxl.pop(diff[0])\n",
    "box = str(''.join(boxl))\n",
    "print(box)"
   ]
  }
 ],
 "metadata": {
  "kernelspec": {
   "display_name": "Python 3",
   "language": "python",
   "name": "python3"
  },
  "language_info": {
   "codemirror_mode": {
    "name": "ipython",
    "version": 3
   },
   "file_extension": ".py",
   "mimetype": "text/x-python",
   "name": "python",
   "nbconvert_exporter": "python",
   "pygments_lexer": "ipython3",
   "version": "3.6.6"
  }
 },
 "nbformat": 4,
 "nbformat_minor": 2
}
